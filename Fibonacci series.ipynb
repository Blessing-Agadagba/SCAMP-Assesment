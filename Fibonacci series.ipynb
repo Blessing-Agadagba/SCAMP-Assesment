{
 "cells": [
  {
   "cell_type": "code",
   "execution_count": 6,
   "metadata": {},
   "outputs": [
    {
     "name": "stdout",
     "output_type": "stream",
     "text": [
      "[0, 1, 1, 2, 3, 5, 8, 13, 21, 34, 55, 89, 144, 233]\n"
     ]
    }
   ],
   "source": [
    "fibonacci_numbers = [0,1]\n",
    "i = 0\n",
    "j = 1\n",
    "while len(fibonacci_numbers) <= 13: \n",
    "    fibonacci_numbers.append(fibonacci_numbers[i] + fibonacci_numbers[j]) \n",
    "    i += 1 \n",
    "    j += 1 \n",
    "    \n",
    "print (fibonacci_numbers)"
   ]
  },
  {
   "cell_type": "code",
   "execution_count": null,
   "metadata": {},
   "outputs": [],
   "source": []
  }
 ],
 "metadata": {
  "kernelspec": {
   "display_name": "Python 3",
   "language": "python",
   "name": "python3"
  }
 },
 "nbformat": 4,
 "nbformat_minor": 4
}
